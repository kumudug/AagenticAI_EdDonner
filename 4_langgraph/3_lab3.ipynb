{
 "cells": [
  {
   "cell_type": "markdown",
   "metadata": {},
   "source": [
    "## Welcome to Week 4, Day 4\n",
    "\n",
    "This is the start of an AWESOME project! Really simple and very effective."
   ]
  },
  {
   "cell_type": "code",
   "execution_count": 1,
   "metadata": {},
   "outputs": [],
   "source": [
    "from typing import Annotated\n",
    "from typing_extensions import TypedDict\n",
    "from langgraph.graph import StateGraph, START\n",
    "from langgraph.graph.message import add_messages\n",
    "from dotenv import load_dotenv\n",
    "from IPython.display import Image, display\n",
    "import gradio as gr\n",
    "from langgraph.prebuilt import ToolNode, tools_condition\n",
    "import requests\n",
    "import os\n",
    "from langchain.agents import Tool\n",
    "\n",
    "from langchain_openai import ChatOpenAI\n",
    "from langgraph.checkpoint.memory import MemorySaver"
   ]
  },
  {
   "cell_type": "code",
   "execution_count": 2,
   "metadata": {},
   "outputs": [
    {
     "data": {
      "text/plain": [
       "True"
      ]
     },
     "execution_count": 2,
     "metadata": {},
     "output_type": "execute_result"
    }
   ],
   "source": [
    "load_dotenv(override=True)"
   ]
  },
  {
   "cell_type": "markdown",
   "metadata": {},
   "source": [
    "### Asynchronous LangGraph\n",
    "\n",
    "To run a tool:  \n",
    "Sync: `tool.run(inputs)`  \n",
    "Async: `await tool.arun(inputs)`\n",
    "\n",
    "To invoke the graph:  \n",
    "Sync: `graph.invoke(state)`  \n",
    "Async: `await graph.ainvoke(state)`"
   ]
  },
  {
   "cell_type": "code",
   "execution_count": null,
   "metadata": {},
   "outputs": [],
   "source": [
    "config = {\"configurable\": {\"thread_id\": \"3\"}}\n",
    "\n",
    "def chat(user_input: str, history):\n",
    "    result = graph.invoke({\"messages\": [{\"role\": \"user\", \"content\": user_input}]}, config=config)\n",
    "    return result[\"messages\"][-1].content\n",
    "\n",
    "\n",
    "gr.ChatInterface(chat, type=\"messages\").launch()"
   ]
  },
  {
   "cell_type": "code",
   "execution_count": 3,
   "metadata": {},
   "outputs": [],
   "source": [
    "class State(TypedDict):\n",
    "    \n",
    "    messages: Annotated[list, add_messages]\n",
    "\n",
    "\n",
    "graph_builder = StateGraph(State)"
   ]
  },
  {
   "cell_type": "code",
   "execution_count": 4,
   "metadata": {},
   "outputs": [],
   "source": [
    "pushover_token = os.getenv(\"PUSHOVER_TOKEN\")\n",
    "pushover_user = os.getenv(\"PUSHOVER_USER\")\n",
    "pushover_url = \"https://api.pushover.net/1/messages.json\"\n",
    "\n",
    "def push(text: str):\n",
    "    \"\"\"Send a push notification to the user\"\"\"\n",
    "    requests.post(pushover_url, data = {\"token\": pushover_token, \"user\": pushover_user, \"message\": text})\n",
    "\n",
    "tool_push = Tool(\n",
    "        name=\"send_push_notification\",\n",
    "        func=push,\n",
    "        description=\"useful for when you want to send a push notification\"\n",
    "    )"
   ]
  },
  {
   "cell_type": "markdown",
   "metadata": {},
   "source": [
    "### Next: Install Playwright\n",
    "\n",
    "On Windows and MacOS:  \n",
    "`playwright install`\n",
    "\n",
    "On Linux:  \n",
    "`playwright install —with-reps chromium`\n",
    "\n",
    "Student Mariano R. mentioned that you might also need to do this in a cursor terminal:\n",
    "\n",
    "`uv run playwright install chromium`"
   ]
  },
  {
   "cell_type": "code",
   "execution_count": 4,
   "metadata": {},
   "outputs": [],
   "source": [
    "!playwright install"
   ]
  },
  {
   "cell_type": "markdown",
   "metadata": {},
   "source": [
    "## And now - after Installing Playwright, a heads up for Windows PC Users:\n",
    "\n",
    "While executing the next few cells, you might hit a problem with the Playwright browser raising a NotImplementedError.\n",
    "\n",
    "This should work when we move to python modules, but it can cause problems in Windows in a notebook.\n",
    "\n",
    "If you it this error and would like to run the notebook, you need to make a small change which seems quite hacky! You need to do this AFTER installing Playwright (prior cells)\n",
    "\n",
    "1. Right click in `.venv` in the File Explorer on the left and select \"Find in folder\"\n",
    "2. Search for `asyncio.set_event_loop_policy(WindowsSelectorEventLoopPolicy())`  \n",
    "3. That code should be found in a line of code in a file called `kernelapp.py`\n",
    "4. Comment out the entire else clause that this line is a part of - see the fragment below. Be sure to have the \"pass\" statement after the ImportError line.\n",
    "5. Restart the kernel by pressing the \"Restart\" button above\n",
    "\n",
    "```python\n",
    "        if sys.platform.startswith(\"win\") and sys.version_info >= (3, 8):\n",
    "            import asyncio\n",
    " \n",
    "            try:\n",
    "                from asyncio import WindowsProactorEventLoopPolicy, WindowsSelectorEventLoopPolicy\n",
    "            except ImportError:\n",
    "                pass\n",
    "                # not affected\n",
    "           # else:\n",
    "            #    if type(asyncio.get_event_loop_policy()) is WindowsProactorEventLoopPolicy:\n",
    "                    # WindowsProactorEventLoopPolicy is not compatible with tornado 6\n",
    "                    # fallback to the pre-3.8 default of Selector\n",
    "                    # asyncio.set_event_loop_policy(WindowsSelectorEventLoopPolicy())\n",
    "```\n",
    "\n",
    "Thank you to student Nicolas for finding this, and to Kalyan, Yaki, Zibin and Bhaskar for confirming that this worked for them! And to Vladislav for the extra pointers.\n",
    "\n",
    "As an alternative, you can just move to a Python module (which we do anyway in Day 5)"
   ]
  },
  {
   "cell_type": "code",
   "execution_count": 5,
   "metadata": {},
   "outputs": [],
   "source": [
    "# Introducing nest_asyncio\n",
    "# Python async code only allows for one \"event loop\" processing aynchronous events.\n",
    "# The `nest_asyncio` library patches this, and is used for special situations, if you need to run a nested event loop.\n",
    "\n",
    "import nest_asyncio\n",
    "nest_asyncio.apply()"
   ]
  },
  {
   "cell_type": "markdown",
   "metadata": {},
   "source": [
    "### The LangChain community\n",
    "\n",
    "One of the remarkable things about LangChain is the rich community around it.\n",
    "\n",
    "Check this out:\n"
   ]
  },
  {
   "cell_type": "code",
   "execution_count": 6,
   "metadata": {},
   "outputs": [],
   "source": [
    "from langchain_community.agent_toolkits import PlayWrightBrowserToolkit\n",
    "from langchain_community.tools.playwright.utils import create_async_playwright_browser\n",
    "\n",
    "# If you get a NotImplementedError here or later, see the Heads Up at the top of the notebook\n",
    "\n",
    "async_browser =  create_async_playwright_browser(headless=False)  # headful mode\n",
    "toolkit = PlayWrightBrowserToolkit.from_browser(async_browser=async_browser)\n",
    "tools = toolkit.get_tools()"
   ]
  },
  {
   "cell_type": "code",
   "execution_count": 7,
   "metadata": {},
   "outputs": [
    {
     "name": "stdout",
     "output_type": "stream",
     "text": [
      "click_element=async_browser=<Browser type=<BrowserType name=chromium executable_path=/Users/kumudugunasekara/Library/Caches/ms-playwright/chromium-1169/chrome-mac/Chromium.app/Contents/MacOS/Chromium> version=136.0.7103.25>\n",
      "navigate_browser=async_browser=<Browser type=<BrowserType name=chromium executable_path=/Users/kumudugunasekara/Library/Caches/ms-playwright/chromium-1169/chrome-mac/Chromium.app/Contents/MacOS/Chromium> version=136.0.7103.25>\n",
      "previous_webpage=async_browser=<Browser type=<BrowserType name=chromium executable_path=/Users/kumudugunasekara/Library/Caches/ms-playwright/chromium-1169/chrome-mac/Chromium.app/Contents/MacOS/Chromium> version=136.0.7103.25>\n",
      "extract_text=async_browser=<Browser type=<BrowserType name=chromium executable_path=/Users/kumudugunasekara/Library/Caches/ms-playwright/chromium-1169/chrome-mac/Chromium.app/Contents/MacOS/Chromium> version=136.0.7103.25>\n",
      "extract_hyperlinks=async_browser=<Browser type=<BrowserType name=chromium executable_path=/Users/kumudugunasekara/Library/Caches/ms-playwright/chromium-1169/chrome-mac/Chromium.app/Contents/MacOS/Chromium> version=136.0.7103.25>\n",
      "get_elements=async_browser=<Browser type=<BrowserType name=chromium executable_path=/Users/kumudugunasekara/Library/Caches/ms-playwright/chromium-1169/chrome-mac/Chromium.app/Contents/MacOS/Chromium> version=136.0.7103.25>\n",
      "current_webpage=async_browser=<Browser type=<BrowserType name=chromium executable_path=/Users/kumudugunasekara/Library/Caches/ms-playwright/chromium-1169/chrome-mac/Chromium.app/Contents/MacOS/Chromium> version=136.0.7103.25>\n"
     ]
    }
   ],
   "source": [
    "for tool in tools:\n",
    "    print(f\"{tool.name}={tool}\")"
   ]
  },
  {
   "cell_type": "code",
   "execution_count": 9,
   "metadata": {},
   "outputs": [],
   "source": [
    "tool_dict = {tool.name:tool for tool in tools}\n",
    "\n",
    "navigate_tool = tool_dict.get(\"navigate_browser\")\n",
    "extract_text_tool = tool_dict.get(\"extract_text\")\n",
    "\n",
    "    \n",
    "await navigate_tool.arun({\"url\": \"https://www.cnn.com\"})\n",
    "text = await extract_text_tool.arun({})"
   ]
  },
  {
   "cell_type": "code",
   "execution_count": 10,
   "metadata": {},
   "outputs": [
    {
     "name": "stdout",
     "output_type": "stream",
     "text": [
      "Breaking News, Latest News and Videos | CNN CNN values your feedback\n",
      "1. How relevant is this ad to you? 2. Did you encounter any technical\n",
      "issues? No Video player was slow to load content Video content never\n",
      "loaded Ad froze or did not finish loading Video content did not start\n",
      "after ad Audio on ad was too loud Other issues Ad never loaded Ad\n",
      "prevented/slowed the page from loading Content moved around while ad\n",
      "loaded Ad was repetitive to ads I've seen previously Other issues\n",
      "Cancel Submit Thank You! Your effort and contribution in providing\n",
      "this feedback is much\n",
      "appreciated. Close Ad Feedback Close icon US World Politics Business\n",
      "Health Entertainment Style Travel Sports Science Climate Weather\n",
      "Ukraine-Russia War Israel-Hamas War Underscored Games More US World\n",
      "Politics Business Health Entertainment Style Travel Sports Science\n",
      "Climate Weather Ukraine-Russia War Israel-Hamas War Underscored Games\n",
      "Watch Listen Live TV Subscribe Sign in My Account Settings Newsletters\n",
      "Topics you follow Sign out Your CNN account Sign in to your CNN\n",
      "account Sign in My Account Settings Newsletters Topics you follow Sign\n",
      "out Your CNN account Sign in to your CNN account Live TV Listen Watch\n",
      "Edition US International Arabic Español Edition US International\n",
      "Arabic Español US Crime + Justice World Africa Americas Asia Australia\n",
      "China Europe India Middle East United Kingdom Politics Trump Facts\n",
      "First CNN Polls 2025 Elections Business Tech Media Calculators Videos\n",
      "Markets Pre-markets After-Hours Fear & Greed Investing Markets Now\n",
      "Nightcap Health Life, But Better Fitness Food Sleep Mindfulness\n",
      "Relationships Entertainment Movies Television Celebrity Tech Innovate\n",
      "Foreseeable Future Mission: Ahead Work Transformed Innovative Cities\n",
      "Style Arts Design Fashion Architecture Luxury Beauty Video Travel\n",
      "Destinations Food & Drink Stay Videos Sports Pro Football College\n",
      "Football Basketball Baseball Soccer Olympics Hockey Science Space Life\n",
      "Unearthed Climate Solutions Weather Weather Video Climate Ukraine-\n",
      "Russia War Israel-Hamas War Watch Live TV CNN Headlines CNN Shorts\n",
      "Shows A-Z CNN10 CNN Max CNN TV Schedules FlashDocs Listen CNN 5 Things\n",
      "Chasing Life with Dr. Sanjay Gupta The Assignment with Audie Cornish\n",
      "One Thing Tug of War CNN Political Briefing The Axe Files All There Is\n",
      "with Anderson Cooper All CNN Audio podcasts CNN Underscored\n",
      "Electronics Fashion Beauty Health & Fitness Home Reviews Deals Gifts\n",
      "Travel Outdoors Pets Games Daily Crossword Jumble Crossword Photo\n",
      "Shuffle Sudoblock Sudoku 5 Things Quiz About CNN Subscribe Photos\n",
      "Investigations CNN Profiles CNN Leadership CNN Newsletters Work for\n",
      "CNN Follow CNN Trending Tourist boat capsizes in Vietnam Astronomer\n",
      "CEO resigns US heat risk forecast NFLPA head steps down Beyoncé Tour\n",
      "de France Rory McIlroy Katy Perry At least 30 people have been injured\n",
      "after an “unknown vehicle” drove into a crowd in East Hollywood early\n",
      "Saturday, according to the Los Angeles Fire Department. RMG News\n",
      "Driver was dragged from car and shot by bystander after crashing into\n",
      "crowd and injuring at least 30 people, police say More than 20 people\n",
      "have been injured after an “unknown vehicle” drove into a crowd in\n",
      "East Hollywood overnight into early Saturday, according to the Los\n",
      "Angeles Fire Department. • Video 1:16 CNN Video LAPD describes what\n",
      "happened after vehicle strike 1:16 Officials from the Los Angeles\n",
      "Police and Fire Departments described to CNN’s Julia Vargas Jones the\n",
      "“very chaotic scene” in East Hollywood after a vehicle drove into a\n",
      "crowd outside a nightclub early Saturday. At least 30 people were\n",
      "injured – seven of them critically – according to the LAFD. • For\n",
      "Subscribers For Subscribers United Farm Workers For Subscribers An\n",
      "Army veteran and US citizen recounts 3 days in custody after\n",
      "immigration raid George Retes, a 25-year-old Army veteran and father\n",
      "of two, had been planning his three-year-old daughter’s Minnie Mouse\n",
      "birthday party at the park for weeks. 5 big questions about Trump's\n",
      "ties to Epstein Show all • Analysis Analysis Davidoff Studios\n",
      "Photography/Archive Photos/Getty Images • Analysis Analysis Analysis A\n",
      "recent WSJ report and Trump’s efforts to quiet chatter about the late\n",
      "sex offender have rekindled interest in their relationship The\n",
      "president filed a lawsuit over the Wall Street Journal’s report on\n",
      "Epstein letter Video Epstein’s ex-girlfriend describes his\n",
      "relationship with Trump 5:06 Play CNN Headlines - Source: CNN Watch\n",
      "the latest CNN Headlines @calebu2/TMX Astronomer CEO resigns after\n",
      "viral Coldplay concert incident Theo Wargo/Getty Images Katy Perry\n",
      "nearly plummets from floating butterfly during her show • Video 1:37\n",
      "Paramount Pictures Video Remember Cher’s plaid yellow blazer in\n",
      "‘Clueless’? 1:37 More Top Stories Yuri Gripas for The Washington\n",
      "Post/Getty Images Gabbard threatens Obama officials with criminal\n",
      "referral over 2016 election assessment Video Mom lost husband and\n",
      "brother this year – then her daughter in the Camp Mystic floods 12:15\n",
      "For Subscribers The future of DC’s most polarizing building is unclear\n",
      "A once-beloved art professor’s tragic battle with addiction and\n",
      "homelessness Video ‘People just let their souls bleed out of their\n",
      "pens onto that paper’: Writing is changing his life in prison 2:11\n",
      "Beyoncé’s patriotic visuals for the ‘Cowboy Carter’ tour come under\n",
      "scrutiny The Motley Fool Card experts say: \"worth it's weight in gold\"\n",
      "Open Championship Andy Buchanan/AFP/Getty Images ‘The most ridiculous\n",
      "thing I’ve ever seen’: Resurgent Rory McIlroy left incredulous after\n",
      "bizarrely hitting two balls at once As the latest inductee into one of\n",
      "sport’s most exclusive clubs, there is little that grand slam champion\n",
      "Rory McIlroy has not seen in the game of golf. Then, just past the\n",
      "halfway mark of his Open Championship third round on Saturday, he\n",
      "swung. David Cannon/Getty Images Unrelenting Scottie Scheffler leaves\n",
      "Open field in his wake. Can anyone catch him? World No. 1 Scottie\n",
      "Scheffler coasts to a four-stroke lead heading into Sunday’s final\n",
      "round at The Open at Royal Portrush in Northern Ireland. 'The Late\n",
      "Show' • Video 5:58 CNN/Getty Images Video CNN’s Jake Tapper weighs in\n",
      "on timing of Colbert cancellation 5:58 CNN’s Jake Tapper reports Ad\n",
      "Feedback Ad Feedback CNN Underscored Maxwell Shukuya/CNN Underscored\n",
      "Avoid swollen feet with the 15 best compression socks for travel,\n",
      "according to podiatrists Jul 15, 2025 Michelle Rae Uy/CNN Underscored\n",
      "Can’t sleep on planes? Our favorite travel pillow can help Jul 8, 2025\n",
      "Rachel Dennis/CNN Underscored Flat feet don’t stand a chance against\n",
      "these 19 arch-supporting shoes Jun 29, 2025 Ad Feedback Week in Review\n",
      "• Gallery Gallery Tierney L. Cross/The New York Times/Redux Gallery\n",
      "People fired from State Department leave headquarters. Surreal shot of\n",
      "MLB player warming up. The week in photos • Look of the Week Look of\n",
      "the Week Raymond Hall/GC Images/Getty Images Look of the Week ‘Too\n",
      "Much’ star Megan Stalter is the Prettiest Girl in America • Quiz Quiz\n",
      "Getty Images Quiz The average score for this week’s news quiz is 7.5.\n",
      "Can you do better? America's Best Towns Show all • Video 2:28 CNN\n",
      "Video The people in this coastal town burn their socks every year.\n",
      "Here’s why 2:28 Rebecca Wright/CNN Maritime town offers boating, great\n",
      "seafood and more than 250 years of history Sonoma County Tourism Once\n",
      "‘the world’s egg basket,’ this Gold Rush-era boomtown still delivers\n",
      "culinary riches For Subscribers • For Subscribers For Subscribers\n",
      "AFP/Getty Images For Subscribers Could Trump strip citizenship from\n",
      "Elon Musk, Zohran Mamdani or Rosie O’Donnell? • For Subscribers For\n",
      "Subscribers Patrick T. Fallon/AFP/Getty Images For Subscribers How\n",
      "Home Depot became a magnet for day laborers and a target for ICE • For\n",
      "Subscribers For Subscribers Jack Guez/AFP/Getty Images For Subscribers\n",
      "North Carolina’s Democratic Party passes resolution calling for arms\n",
      "embargo on Israel. Many state leaders have stayed silent Ad Feedback\n",
      "Ad Feedback CNN Underscored Best-in-class Mark Amadio/CNN Underscored\n",
      "I found a $30 weeding tool that actually makes gardening fun 45\n",
      "cooling products that work wonders at keeping you chill — even when\n",
      "your AC won’t Only 3 water bottles we tested are worth your money.\n",
      "Here’s which to buy My car doesn’t have GPS, so I tested the best car\n",
      "phone holders to modernize my ride The 41 best birthday gifts anyone\n",
      "will love, no matter how well you know them Expert-backed guides Joe\n",
      "Bloss/CNN Underscored A toaster is a kitchen staple. These 2 we tested\n",
      "do their job better than the rest Plenty of laptops impressed us, but\n",
      "this one topped them all 25 furniture finds from The Home Depot that\n",
      "look way more expensive than they are Sunglasses don’t need to be\n",
      "expensive to be high-quality. So we found 16 of the best ones You need\n",
      "a good portable charger. We found 3 that are worth your money Editors'\n",
      "picks Molly Flores/CNN Underscored These dentist-approved whitening\n",
      "toothpastes can brighten your teeth in just a few days 23 best body\n",
      "oils for younger-looking skin all over, according to dermatologists\n",
      "and editors Our readers have fallen in love with these 55 travel\n",
      "accessories How to stop your trash can from smelling like a dumpster\n",
      "in the summer Your guide to earning and redeeming points in the Chase\n",
      "Ultimate Rewards program CNN Original Programming Frank\n",
      "Micelotta/AFP/Getty Images Phil Collins jetted across the ocean for\n",
      "two Live Aid concerts, but it wasn’t without drama • Video 4:01 CNN\n",
      "Video Why Bono made Condoleezza Rice promise to help the global\n",
      "HIV/AIDS pandemic 4:01 Jose Galvez/Los Angeles Times/Los Angeles Times\n",
      "via Getty Imag What drives financial fraud? It can come down to one\n",
      "emotion Life, But Greener Show all • Video 1:48 CNN Video Why Billie\n",
      "Eilish insists on special rules at all her concerts 1:48 • Video 2:59\n",
      "cnn Video Meat consumption levels are unsustainable. Going vegan isn’t\n",
      "the only answer 2:59 • Video 2:48 Yuliia  Kokosha/Moment RF/Getty\n",
      "Images Video How to wash fruits and vegetables to help minimize\n",
      "pesticides 2:48 Ad Feedback PAID PARTNER CONTENT Stop Paying Interest:\n",
      "21 Months of 0% APR Awaits CardCritics Thousands flock to 0% APR\n",
      "offers lasting until nearly 2027 CardCritics World Show all Antonio\n",
      "Masiello/Getty Images Ukraine calls for talks with Russia next week\n",
      "Rescuers search for survivors after tourist boat capsizes killing\n",
      "dozens in Vietnam 19 injured after fireworks show goes awry at fair in\n",
      "Germany More than 30 killed after Israeli forces open fire on people\n",
      "seeking food in Gaza, health ministry says Latest politics Tristen\n",
      "Rouse/CNN Can you mount an art exhibition about race in the age of\n",
      "Trump? She quit her federal job because of Trump. Now, she’s running\n",
      "for office to fight his policies Analysis How Trump 2.0 is undoing\n",
      "Trump 1.0 Video Exclusive: Brazil’s president hits back at Trump’s\n",
      "threat of 50% tariffs: He ‘was elected not to be emperor of the world’\n",
      "1:34 Entertainment and Culture Show all Scott Kowalchyk/CBS via Getty\n",
      "Images Colbert had big shoes to fill in late night. He blazed his own\n",
      "trail Video Disney says its new animatronic is its most lifelike yet\n",
      "2:12 Stevie Nicks and Lindsey Buckingham stir up reunion hopes in\n",
      "Fleetwood Mac faithfuls Natasha Lyonne assures us she has more teeth\n",
      "than her ‘Smurfs’ movie character Business Show all Andrew Harnik/Anna\n",
      "Moneymaker/Getty Images Trump says Powell is costing the US a fortune\n",
      "by not lowering rates. But firing the Fed chair may not fix the issue\n",
      "Climate catastrophes are creating a ‘new market reality’ for insurance\n",
      "carriers Chinese graphite is crucial to electric car batteries. Trump\n",
      "just put a 93.5% tariff on it Chevron’s megadeal for Hess gets\n",
      "approval after winning legal battle with Exxon Travel and tourism\n",
      "ingwervanille/Moment RF/Getty Images Summer fare from around the world\n",
      "to cool down in hot weather More than 130 passengers fall ill on Royal\n",
      "Caribbean cruise No, Walt Disney is not cryogenically frozen. But he\n",
      "comes magically back to life at Disneyland CNN Underscored Avoid\n",
      "swollen feet with the 15 best compression socks for travel, according\n",
      "to podiatrists Art and Style Courtesy the artist/Air de Paris,\n",
      "Romainville/Barbara Wien, Berlin What happens when an octopus engages\n",
      "with art? Michael Buckner/Variety/Getty Images Famous ‘Rosebud’ sled\n",
      "from ‘Citizen Kane’ sells for $14.75 million • Video 2:51 CNN Video\n",
      "Meet the North Korean defectors turned K-pop stars 2:51 Space and\n",
      "Science Courtesy of the Master and Fellows of Peterhouse/University of\n",
      "Cambridge Medieval scribe’s slip-up triggered centuries of confusion\n",
      "over a long-lost saga. Researchers finally decoded the error Video New\n",
      "images reveal stunning views from mission to ‘touch’ the sun 1:10 Rare\n",
      "Ceratosaurus fossil sells for $30.5 million Denver’s deepest and\n",
      "oldest fossil found underneath museum parking lot US news Colin\n",
      "Furze/USA Today Network via Reuters Death toll rises to 10 in\n",
      "devastating Massachusetts assisted living facility fire How a\n",
      "Hurricane Katrina victim is helping the smallest survivors of the\n",
      "Texas floods 3 LA County sheriff’s deputies killed by explosion at\n",
      "training facility, the agency’s largest loss of life since 1857 The\n",
      "owner of a Tennessee factory where workers were swept away by\n",
      "Hurricane Helene won’t face charges Bleacher Report Show all Must\n",
      "watch: Rory hits wild trick shot from rough UFC 318 predictions amid\n",
      "star’s retirement Eagles unveil Super Bowl rings with unique detail\n",
      "Noah Lyles finishes 2nd at diamond league Manny Pacquiao makes weight\n",
      "for boxing return fight Paid Content Paid Content Recommendations More\n",
      "from CNN Health and Wellness Al Drago/Bloomberg/Getty Images Trump was\n",
      "diagnosed with chronic venous insufficiency. Here’s what it may mean\n",
      "for him Sports Sarah Meyssonnier/Reuters Tour de France spectator hit\n",
      "by INEOS-Grenadiers team car Personal Essay Transgender kids aren’t\n",
      "the problem in youth sports, one parent says Ad Feedback Paid Partner\n",
      "Content DISTRO TV DistroTV: Watch 270+ Live Streaming Channels All For\n",
      "Free DistroTV is the best FREE independent streaming television\n",
      "service 270+ FREE live streaming channels: Entertainment, Sports,\n",
      "Movies, Music & More No sign up. No registration. No credit cards.\n",
      "Just watch for FREE CNN Games + Quizzes Show all • Today's crossword\n",
      "Today's crossword CNN Today's crossword No pencil or eraser required •\n",
      "Sudoblock Sudoblock CNN Sudoblock Sudoku + Blocks = addictive tile-\n",
      "matching puzzle • Jumble Crossword Jumble Crossword CNN Jumble\n",
      "Crossword Test your smarts with this scrambled word game • Weekly news\n",
      "quiz Weekly news quiz cnn Weekly news quiz What do you remember from\n",
      "the week that was? In case you missed it • Interactive Interactive\n",
      "Photo illustration by CNN/Getty Images • Interactive Interactive\n",
      "Interactive An eye-opening look at Hong Kong’s sought-after and deeply\n",
      "precarious job Syrian government says it’s deploying forces to restive\n",
      "south after week of violence Golfer accepts controversial rules\n",
      "penalty to avoid being labeled a ‘cheat’ Cycling like a pro… for a\n",
      "day: How amateurs measure themselves up to pros on one of the world’s\n",
      "toughest stages Iran tries to rearm proxy groups as US talks stall\n",
      "Lloyd Howell Jr. steps down from NFLPA role amid reports he expensed\n",
      "trips to strip clubs Justice Department says former officer convicted\n",
      "in Breonna Taylor raid should get one day in jail Digging through\n",
      "sand, mud, debris and silt. Why the search for the missing in Texas\n",
      "may take months Subscribe Sign in My Account Settings Newsletters\n",
      "Topics you follow Sign out Your CNN account Sign in to your CNN\n",
      "account Live TV Listen Watch US Crime + Justice World Africa Americas\n",
      "Asia Australia China Europe India Middle East United Kingdom Politics\n",
      "Trump Facts First CNN Polls 2025 Elections Business Tech Media\n",
      "Calculators Videos Markets Pre-markets After-Hours Fear & Greed\n",
      "Investing Markets Now Nightcap Health Life, But Better Fitness Food\n",
      "Sleep Mindfulness Relationships Entertainment Movies Television\n",
      "Celebrity Tech Innovate Foreseeable Future Mission: Ahead Work\n",
      "Transformed Innovative Cities Style Arts Design Fashion Architecture\n",
      "Luxury Beauty Video Travel Destinations Food & Drink Stay News Videos\n",
      "Sports Pro Football College Football Basketball Baseball Soccer\n",
      "Olympics Hockey Science Space Life Unearthed Climate Solutions Weather\n",
      "Weather Video Climate Ukraine-Russia War Israel-Hamas War Watch Live\n",
      "TV CNN Headlines CNN Shorts Shows A-Z CNN10 CNN Max CNN TV Schedules\n",
      "FlashDocs Listen CNN 5 Things Chasing Life with Dr. Sanjay Gupta The\n",
      "Assignment with Audie Cornish One Thing Tug of War CNN Political\n",
      "Briefing The Axe Files All There Is with Anderson Cooper All CNN Audio\n",
      "podcasts CNN Underscored Electronics Fashion Beauty Health & Fitness\n",
      "Home Reviews Deals Gifts Travel Outdoors Pets Games Daily Crossword\n",
      "Jumble Crossword Photo Shuffle Sudoblock Sudoku 5 Things Quiz About\n",
      "CNN Subscribe Photos Investigations CNN Profiles CNN Leadership CNN\n",
      "Newsletters Work for CNN Watch Listen Live TV Follow CNN Subscribe\n",
      "Sign in My Account Settings Newsletters Topics you follow Sign out\n",
      "Your CNN account Sign in to your CNN account Terms of Use Privacy\n",
      "Policy Cookie Settings Ad Choices Accessibility & CC About Subscribe\n",
      "Newsletters Transcripts Help Center © 2025 Cable News Network. A\n",
      "Warner Bros. Discovery Company. All Rights Reserved. CNN Sans ™ & ©\n",
      "2016 Cable News Network. Privacy Policy For privacy options, please\n",
      "see our privacy policy: https://www.cnn.com/privacy . Back Button\n",
      "Cookie List Search Icon Filter Icon Clear checkbox label label Apply\n",
      "Cancel Consent Leg.Interest checkbox label label checkbox label label\n",
      "checkbox label label Close\n"
     ]
    }
   ],
   "source": [
    "import textwrap\n",
    "print(textwrap.fill(text))"
   ]
  },
  {
   "cell_type": "code",
   "execution_count": 11,
   "metadata": {},
   "outputs": [],
   "source": [
    "all_tools = tools + [tool_push]"
   ]
  },
  {
   "cell_type": "code",
   "execution_count": 12,
   "metadata": {},
   "outputs": [],
   "source": [
    "\n",
    "llm = ChatOpenAI(model=\"gpt-4o-mini\")\n",
    "llm_with_tools = llm.bind_tools(all_tools)\n",
    "\n",
    "\n",
    "def chatbot(state: State):\n",
    "    return {\"messages\": [llm_with_tools.invoke(state[\"messages\"])]}\n"
   ]
  },
  {
   "cell_type": "code",
   "execution_count": 13,
   "metadata": {},
   "outputs": [
    {
     "data": {
      "image/png": "[encoded data removed]",
      "text/plain": [
       "<IPython.core.display.Image object>"
      ]
     },
     "metadata": {},
     "output_type": "display_data"
    }
   ],
   "source": [
    "\n",
    "graph_builder = StateGraph(State)\n",
    "graph_builder.add_node(\"chatbot\", chatbot)\n",
    "graph_builder.add_node(\"tools\", ToolNode(tools=all_tools))\n",
    "graph_builder.add_conditional_edges( \"chatbot\", tools_condition, \"tools\")\n",
    "graph_builder.add_edge(\"tools\", \"chatbot\")\n",
    "graph_builder.add_edge(START, \"chatbot\")\n",
    "\n",
    "memory = MemorySaver()\n",
    "graph = graph_builder.compile(checkpointer=memory)\n",
    "display(Image(graph.get_graph().draw_mermaid_png()))"
   ]
  },
  {
   "cell_type": "code",
   "execution_count": 14,
   "metadata": {},
   "outputs": [
    {
     "name": "stdout",
     "output_type": "stream",
     "text": [
      "* Running on local URL:  http://127.0.0.1:7861\n",
      "* To create a public link, set `share=True` in `launch()`.\n"
     ]
    },
    {
     "data": {
      "text/html": [
       "<div><iframe src=\"http://127.0.0.1:7861/\" width=\"100%\" height=\"500\" allow=\"autoplay; camera; microphone; clipboard-read; clipboard-write;\" frameborder=\"0\" allowfullscreen></iframe></div>"
      ],
      "text/plain": [
       "<IPython.core.display.HTML object>"
      ]
     },
     "metadata": {},
     "output_type": "display_data"
    },
    {
     "data": {
      "text/plain": []
     },
     "execution_count": 14,
     "metadata": {},
     "output_type": "execute_result"
    }
   ],
   "source": [
    "config = {\"configurable\": {\"thread_id\": \"10\"}}\n",
    "\n",
    "async def chat(user_input: str, history):\n",
    "    result = await graph.ainvoke({\"messages\": [{\"role\": \"user\", \"content\": user_input}]}, config=config)\n",
    "    return result[\"messages\"][-1].content\n",
    "\n",
    "\n",
    "gr.ChatInterface(chat, type=\"messages\").launch()"
   ]
  },
  {
   "cell_type": "code",
   "execution_count": null,
   "metadata": {},
   "outputs": [],
   "source": []
  }
 ],
 "metadata": {
  "kernelspec": {
   "display_name": ".venv",
   "language": "python",
   "name": "python3"
  },
  "language_info": {
   "codemirror_mode": {
    "name": "ipython",
    "version": 3
   },
   "file_extension": ".py",
   "mimetype": "text/x-python",
   "name": "python",
   "nbconvert_exporter": "python",
   "pygments_lexer": "ipython3",
   "version": "3.12.2"
  }
 },
 "nbformat": 4,
 "nbformat_minor": 2
}
